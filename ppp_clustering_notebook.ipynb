{
 "cells": [
  {
   "cell_type": "code",
   "execution_count": null,
   "metadata": {
    "collapsed": true
   },
   "outputs": [],
   "source": [
    "import pandas as pd"
   ]
  },
  {
   "cell_type": "code",
   "execution_count": 1,
   "metadata": {
    "collapsed": false
   },
   "outputs": [
    {
     "ename": "SyntaxError",
     "evalue": "invalid syntax (<ipython-input-1-a586bd56b6c5>, line 17)",
     "output_type": "error",
     "traceback": [
      "\u001b[1;36m  File \u001b[1;32m\"<ipython-input-1-a586bd56b6c5>\"\u001b[1;36m, line \u001b[1;32m17\u001b[0m\n\u001b[1;33m    \"tc\":[.09, .01, .12, 0, 0, .06, 0, .42, .07, 0 .02, 0, .33, .12, 0, .13, .13],\u001b[0m\n\u001b[1;37m                                                     ^\u001b[0m\n\u001b[1;31mSyntaxError\u001b[0m\u001b[1;31m:\u001b[0m invalid syntax\n"
     ]
    }
   ],
   "source": [
    "\"Data from: http://www.publicpolicypolling.com/pdf/2015/PPP_Release_NationalGOP_100615.pdf\"\n",
    "num_respondents = 627\n",
    "first_perc = {\"jb\":.1, \"bc\":.17, \"cc\":.02, \"tc\":.07,\"cf\":.06, \"jg\":.0016, \"lg\":.01, \"mh\":.04,\n",
    "             \"bj\":.01, \"jk\":.04, \"gp\":.01, \"rp\":.02, \"mr\":.13, \"rs\":.02, \"dt\":.27, \"u\":.03}\n",
    "First_Pick = pd.DataFrame({\"percent\":first_perc.values(),\"number\":[el*num_respondents for el in first_perc.values()]},\n",
    "                      index = first_perc.keys())\n",
    "\n",
    "second_perc = {\"jb\":.05, \"bc\":.19, \"cc\":.04, \"tc\":.09,\"cf\":.14, \"jg\":.0016, \"lg\":.01, \"mh\":.05,\n",
    "             \"bj\":.02, \"jk\":.04, \"gp\":.01, \"rp\":.02, \"mr\":.12, \"rs\":.01, \"dt\":.08, \"u\":.13}\n",
    "Second_Pick_Cumulative = pd.DataFrame({\"percent\":second_perc.values(),\n",
    "                                       \"number\":[el*num_respondents for el in second_perc.values()]},\n",
    "                                      index = second_perc.keys())\n",
    "\n",
    "second_pic_dict = {\"jb\":[0,.04, .15, .02, .16, 0, 0, .03, .07, .08, 0, 0, .06, 0, .06, .20],\n",
    "                  \"bc\":[.20, 0, .13, .34, .26, 0, 0, .19, .59, .07, 0, .22, .17, 0, .29, .13],\n",
    "                  \"cc\":[.11, .03, 0, 0, 0, 0, 0, .04, .19, .11, 0, 0, .07, 0, .03,0],\n",
    "                   \"tc\":[.09, .01, .12, 0, 0, .06, 0, .42, .07, 0 .02, 0, .33, .12, 0, .13, .13],\n",
    "                   \"cf\":[.15, .24, 0, .12, 0, 0, .13, .07, .07, .20, .15, .06, .21, .10, .09, .06],\n",
    "                   \"jg\":[0,0,0,0,0,0,0,0,0,0,0,0,0,0,.0016,0],\n",
    "                   \"lg\":[0,.01,0,0,0,0,0,0,0,0,0,0,.04,0,.01,0],\n",
    "                   \"mh\":[4% 6% 24% 8% 2% - - - 7% 8% 48% - 2% 22% 6% -]"
   ]
  }
 ],
 "metadata": {
  "kernelspec": {
   "display_name": "Python 2",
   "language": "python",
   "name": "python2"
  },
  "language_info": {
   "codemirror_mode": {
    "name": "ipython",
    "version": 2
   },
   "file_extension": ".py",
   "mimetype": "text/x-python",
   "name": "python",
   "nbconvert_exporter": "python",
   "pygments_lexer": "ipython2",
   "version": "2.7.10"
  }
 },
 "nbformat": 4,
 "nbformat_minor": 0
}
